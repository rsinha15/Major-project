{
  "nbformat": 4,
  "nbformat_minor": 0,
  "metadata": {
    "colab": {
      "name": "raka_major.ipynb",
      "provenance": [],
      "authorship_tag": "ABX9TyMowM9jML5mj8XWO7Vc2lXP",
      "include_colab_link": true
    },
    "kernelspec": {
      "name": "python3",
      "display_name": "Python 3"
    }
  },
  "cells": [
    {
      "cell_type": "markdown",
      "metadata": {
        "id": "view-in-github",
        "colab_type": "text"
      },
      "source": [
        "<a href=\"https://colab.research.google.com/github/rsinha15/Major-project/blob/main/raka_major.ipynb\" target=\"_parent\"><img src=\"https://colab.research.google.com/assets/colab-badge.svg\" alt=\"Open In Colab\"/></a>"
      ]
    },
    {
      "cell_type": "code",
      "metadata": {
        "colab": {
          "base_uri": "https://localhost:8080/",
          "height": 419
        },
        "id": "FAEl9SoVyvQb",
        "outputId": "408e19ef-f0dc-450e-88c2-6684c5506f3a"
      },
      "source": [
        "import pandas as pd\r\n",
        "df = pd.read_csv('/content/COVID-19 Cases(11-12-2020).csv')\r\n",
        "df"
      ],
      "execution_count": 1,
      "outputs": [
        {
          "output_type": "execute_result",
          "data": {
            "text/html": [
              "<div>\n",
              "<style scoped>\n",
              "    .dataframe tbody tr th:only-of-type {\n",
              "        vertical-align: middle;\n",
              "    }\n",
              "\n",
              "    .dataframe tbody tr th {\n",
              "        vertical-align: top;\n",
              "    }\n",
              "\n",
              "    .dataframe thead th {\n",
              "        text-align: right;\n",
              "    }\n",
              "</style>\n",
              "<table border=\"1\" class=\"dataframe\">\n",
              "  <thead>\n",
              "    <tr style=\"text-align: right;\">\n",
              "      <th></th>\n",
              "      <th>S. No.</th>\n",
              "      <th>Date</th>\n",
              "      <th>Region</th>\n",
              "      <th>Confirmed Cases</th>\n",
              "      <th>Active Cases</th>\n",
              "      <th>Cured/Discharged</th>\n",
              "      <th>Death</th>\n",
              "    </tr>\n",
              "  </thead>\n",
              "  <tbody>\n",
              "    <tr>\n",
              "      <th>0</th>\n",
              "      <td>1</td>\n",
              "      <td>12/03/2020</td>\n",
              "      <td>India</td>\n",
              "      <td>74</td>\n",
              "      <td>71</td>\n",
              "      <td>3.0</td>\n",
              "      <td>0.0</td>\n",
              "    </tr>\n",
              "    <tr>\n",
              "      <th>1</th>\n",
              "      <td>2</td>\n",
              "      <td>13/03/2020</td>\n",
              "      <td>India</td>\n",
              "      <td>75</td>\n",
              "      <td>71</td>\n",
              "      <td>3.0</td>\n",
              "      <td>1.0</td>\n",
              "    </tr>\n",
              "    <tr>\n",
              "      <th>2</th>\n",
              "      <td>3</td>\n",
              "      <td>14/03/2020</td>\n",
              "      <td>India</td>\n",
              "      <td>84</td>\n",
              "      <td>72</td>\n",
              "      <td>10.0</td>\n",
              "      <td>2.0</td>\n",
              "    </tr>\n",
              "    <tr>\n",
              "      <th>3</th>\n",
              "      <td>4</td>\n",
              "      <td>15/03/2020</td>\n",
              "      <td>India</td>\n",
              "      <td>107</td>\n",
              "      <td>95</td>\n",
              "      <td>10.0</td>\n",
              "      <td>2.0</td>\n",
              "    </tr>\n",
              "    <tr>\n",
              "      <th>4</th>\n",
              "      <td>5</td>\n",
              "      <td>16/03/2020</td>\n",
              "      <td>India</td>\n",
              "      <td>114</td>\n",
              "      <td>99</td>\n",
              "      <td>13.0</td>\n",
              "      <td>2.0</td>\n",
              "    </tr>\n",
              "    <tr>\n",
              "      <th>...</th>\n",
              "      <td>...</td>\n",
              "      <td>...</td>\n",
              "      <td>...</td>\n",
              "      <td>...</td>\n",
              "      <td>...</td>\n",
              "      <td>...</td>\n",
              "      <td>...</td>\n",
              "    </tr>\n",
              "    <tr>\n",
              "      <th>9916</th>\n",
              "      <td>9917</td>\n",
              "      <td>06/12/2020</td>\n",
              "      <td>World</td>\n",
              "      <td>65870030</td>\n",
              "      <td>64346447</td>\n",
              "      <td>NaN</td>\n",
              "      <td>1523583.0</td>\n",
              "    </tr>\n",
              "    <tr>\n",
              "      <th>9917</th>\n",
              "      <td>9918</td>\n",
              "      <td>07/12/2020</td>\n",
              "      <td>World</td>\n",
              "      <td>66422058</td>\n",
              "      <td>64889640</td>\n",
              "      <td>NaN</td>\n",
              "      <td>1532418.0</td>\n",
              "    </tr>\n",
              "    <tr>\n",
              "      <th>9918</th>\n",
              "      <td>9919</td>\n",
              "      <td>08/12/2020</td>\n",
              "      <td>World</td>\n",
              "      <td>67210778</td>\n",
              "      <td>65670001</td>\n",
              "      <td>NaN</td>\n",
              "      <td>1540777.0</td>\n",
              "    </tr>\n",
              "    <tr>\n",
              "      <th>9919</th>\n",
              "      <td>9920</td>\n",
              "      <td>09/12/2020</td>\n",
              "      <td>World</td>\n",
              "      <td>67780361</td>\n",
              "      <td>66229147</td>\n",
              "      <td>NaN</td>\n",
              "      <td>1551214.0</td>\n",
              "    </tr>\n",
              "    <tr>\n",
              "      <th>9920</th>\n",
              "      <td>9921</td>\n",
              "      <td>10/12/2020</td>\n",
              "      <td>World</td>\n",
              "      <td>68165877</td>\n",
              "      <td>66608492</td>\n",
              "      <td>NaN</td>\n",
              "      <td>1557385.0</td>\n",
              "    </tr>\n",
              "  </tbody>\n",
              "</table>\n",
              "<p>9921 rows × 7 columns</p>\n",
              "</div>"
            ],
            "text/plain": [
              "      S. No.        Date Region  ...  Active Cases  Cured/Discharged      Death\n",
              "0          1  12/03/2020  India  ...            71               3.0        0.0\n",
              "1          2  13/03/2020  India  ...            71               3.0        1.0\n",
              "2          3  14/03/2020  India  ...            72              10.0        2.0\n",
              "3          4  15/03/2020  India  ...            95              10.0        2.0\n",
              "4          5  16/03/2020  India  ...            99              13.0        2.0\n",
              "...      ...         ...    ...  ...           ...               ...        ...\n",
              "9916    9917  06/12/2020  World  ...      64346447               NaN  1523583.0\n",
              "9917    9918  07/12/2020  World  ...      64889640               NaN  1532418.0\n",
              "9918    9919  08/12/2020  World  ...      65670001               NaN  1540777.0\n",
              "9919    9920  09/12/2020  World  ...      66229147               NaN  1551214.0\n",
              "9920    9921  10/12/2020  World  ...      66608492               NaN  1557385.0\n",
              "\n",
              "[9921 rows x 7 columns]"
            ]
          },
          "metadata": {
            "tags": []
          },
          "execution_count": 1
        }
      ]
    },
    {
      "cell_type": "code",
      "metadata": {
        "colab": {
          "base_uri": "https://localhost:8080/"
        },
        "id": "OWe12oknzWSg",
        "outputId": "d378b080-435d-459e-e7a8-42265be354e6"
      },
      "source": [
        "df.info()"
      ],
      "execution_count": 2,
      "outputs": [
        {
          "output_type": "stream",
          "text": [
            "<class 'pandas.core.frame.DataFrame'>\n",
            "RangeIndex: 9921 entries, 0 to 9920\n",
            "Data columns (total 7 columns):\n",
            " #   Column            Non-Null Count  Dtype  \n",
            "---  ------            --------------  -----  \n",
            " 0   S. No.            9921 non-null   int64  \n",
            " 1   Date              9921 non-null   object \n",
            " 2   Region            9921 non-null   object \n",
            " 3   Confirmed Cases   9921 non-null   int64  \n",
            " 4   Active Cases      9921 non-null   int64  \n",
            " 5   Cured/Discharged  9671 non-null   float64\n",
            " 6   Death             9920 non-null   float64\n",
            "dtypes: float64(2), int64(3), object(2)\n",
            "memory usage: 542.7+ KB\n"
          ],
          "name": "stdout"
        }
      ]
    },
    {
      "cell_type": "code",
      "metadata": {
        "colab": {
          "base_uri": "https://localhost:8080/"
        },
        "id": "gv7FBVvOzYma",
        "outputId": "1cdabb6c-781e-43e4-a87d-681b3946c5a9"
      },
      "source": [
        "df['Region'].unique()"
      ],
      "execution_count": 3,
      "outputs": [
        {
          "output_type": "execute_result",
          "data": {
            "text/plain": [
              "array(['India', 'Andaman and Nicobar Islands', 'Andhra Pradesh',\n",
              "       'Arunachal Pradesh', 'Assam', 'Bihar', 'Chandigarh',\n",
              "       'Chhattisgarh', 'Dadra and Nagar Haveli and Daman and Diu',\n",
              "       'Delhi', 'Goa', 'Gujarat', 'Haryana', 'Himachal Pradesh',\n",
              "       'Jammu and Kashmir', 'Jharkhand', 'Karnataka', 'Kerala', 'Ladakh',\n",
              "       'Lakshadweep', 'Madhya Pradesh', 'Maharashtra', 'Manipur',\n",
              "       'Meghalaya', 'Mizoram', 'Nagaland', 'Odisha', 'Puducherry',\n",
              "       'Punjab', 'Rajasthan', 'Sikkim', 'State assignment pending',\n",
              "       'Tamil Nadu', 'Telangana', 'Tripura', 'Uttar Pradesh',\n",
              "       'Uttarakhand', 'West Bengal', 'World'], dtype=object)"
            ]
          },
          "metadata": {
            "tags": []
          },
          "execution_count": 3
        }
      ]
    },
    {
      "cell_type": "code",
      "metadata": {
        "id": "vxufwqpFzejc"
      },
      "source": [
        "#Removing unneccessary data\r\n",
        "index_names = df[ df['Region'] == 'World' ].index \r\n",
        "df.drop(index_names, inplace = True) "
      ],
      "execution_count": 5,
      "outputs": []
    },
    {
      "cell_type": "code",
      "metadata": {
        "id": "QzO5Cqc0zoHU"
      },
      "source": [
        "#Converting to date time\r\n",
        "df['Date'] =pd.to_datetime(df['Date'])"
      ],
      "execution_count": 6,
      "outputs": []
    },
    {
      "cell_type": "code",
      "metadata": {
        "colab": {
          "base_uri": "https://localhost:8080/",
          "height": 419
        },
        "id": "cRn9bTKMz03E",
        "outputId": "a7986808-2f57-440b-c070-760776f8a741"
      },
      "source": [
        "df"
      ],
      "execution_count": 7,
      "outputs": [
        {
          "output_type": "execute_result",
          "data": {
            "text/html": [
              "<div>\n",
              "<style scoped>\n",
              "    .dataframe tbody tr th:only-of-type {\n",
              "        vertical-align: middle;\n",
              "    }\n",
              "\n",
              "    .dataframe tbody tr th {\n",
              "        vertical-align: top;\n",
              "    }\n",
              "\n",
              "    .dataframe thead th {\n",
              "        text-align: right;\n",
              "    }\n",
              "</style>\n",
              "<table border=\"1\" class=\"dataframe\">\n",
              "  <thead>\n",
              "    <tr style=\"text-align: right;\">\n",
              "      <th></th>\n",
              "      <th>S. No.</th>\n",
              "      <th>Date</th>\n",
              "      <th>Region</th>\n",
              "      <th>Confirmed Cases</th>\n",
              "      <th>Active Cases</th>\n",
              "      <th>Cured/Discharged</th>\n",
              "      <th>Death</th>\n",
              "    </tr>\n",
              "  </thead>\n",
              "  <tbody>\n",
              "    <tr>\n",
              "      <th>0</th>\n",
              "      <td>1</td>\n",
              "      <td>2020-12-03</td>\n",
              "      <td>India</td>\n",
              "      <td>74</td>\n",
              "      <td>71</td>\n",
              "      <td>3.0</td>\n",
              "      <td>0.0</td>\n",
              "    </tr>\n",
              "    <tr>\n",
              "      <th>1</th>\n",
              "      <td>2</td>\n",
              "      <td>2020-03-13</td>\n",
              "      <td>India</td>\n",
              "      <td>75</td>\n",
              "      <td>71</td>\n",
              "      <td>3.0</td>\n",
              "      <td>1.0</td>\n",
              "    </tr>\n",
              "    <tr>\n",
              "      <th>2</th>\n",
              "      <td>3</td>\n",
              "      <td>2020-03-14</td>\n",
              "      <td>India</td>\n",
              "      <td>84</td>\n",
              "      <td>72</td>\n",
              "      <td>10.0</td>\n",
              "      <td>2.0</td>\n",
              "    </tr>\n",
              "    <tr>\n",
              "      <th>3</th>\n",
              "      <td>4</td>\n",
              "      <td>2020-03-15</td>\n",
              "      <td>India</td>\n",
              "      <td>107</td>\n",
              "      <td>95</td>\n",
              "      <td>10.0</td>\n",
              "      <td>2.0</td>\n",
              "    </tr>\n",
              "    <tr>\n",
              "      <th>4</th>\n",
              "      <td>5</td>\n",
              "      <td>2020-03-16</td>\n",
              "      <td>India</td>\n",
              "      <td>114</td>\n",
              "      <td>99</td>\n",
              "      <td>13.0</td>\n",
              "      <td>2.0</td>\n",
              "    </tr>\n",
              "    <tr>\n",
              "      <th>...</th>\n",
              "      <td>...</td>\n",
              "      <td>...</td>\n",
              "      <td>...</td>\n",
              "      <td>...</td>\n",
              "      <td>...</td>\n",
              "      <td>...</td>\n",
              "      <td>...</td>\n",
              "    </tr>\n",
              "    <tr>\n",
              "      <th>9667</th>\n",
              "      <td>9668</td>\n",
              "      <td>2020-07-12</td>\n",
              "      <td>West Bengal</td>\n",
              "      <td>502840</td>\n",
              "      <td>23894</td>\n",
              "      <td>470223.0</td>\n",
              "      <td>8723.0</td>\n",
              "    </tr>\n",
              "    <tr>\n",
              "      <th>9668</th>\n",
              "      <td>9669</td>\n",
              "      <td>2020-08-12</td>\n",
              "      <td>West Bengal</td>\n",
              "      <td>505054</td>\n",
              "      <td>23829</td>\n",
              "      <td>472454.0</td>\n",
              "      <td>8771.0</td>\n",
              "    </tr>\n",
              "    <tr>\n",
              "      <th>9669</th>\n",
              "      <td>9670</td>\n",
              "      <td>2020-09-12</td>\n",
              "      <td>West Bengal</td>\n",
              "      <td>507995</td>\n",
              "      <td>23750</td>\n",
              "      <td>475425.0</td>\n",
              "      <td>8820.0</td>\n",
              "    </tr>\n",
              "    <tr>\n",
              "      <th>9670</th>\n",
              "      <td>9671</td>\n",
              "      <td>2020-10-12</td>\n",
              "      <td>West Bengal</td>\n",
              "      <td>510951</td>\n",
              "      <td>23650</td>\n",
              "      <td>478434.0</td>\n",
              "      <td>8867.0</td>\n",
              "    </tr>\n",
              "    <tr>\n",
              "      <th>9671</th>\n",
              "      <td>9672</td>\n",
              "      <td>2020-11-12</td>\n",
              "      <td>West Bengal</td>\n",
              "      <td>513752</td>\n",
              "      <td>23451</td>\n",
              "      <td>481385.0</td>\n",
              "      <td>8916.0</td>\n",
              "    </tr>\n",
              "  </tbody>\n",
              "</table>\n",
              "<p>9672 rows × 7 columns</p>\n",
              "</div>"
            ],
            "text/plain": [
              "      S. No.       Date       Region  ...  Active Cases  Cured/Discharged   Death\n",
              "0          1 2020-12-03        India  ...            71               3.0     0.0\n",
              "1          2 2020-03-13        India  ...            71               3.0     1.0\n",
              "2          3 2020-03-14        India  ...            72              10.0     2.0\n",
              "3          4 2020-03-15        India  ...            95              10.0     2.0\n",
              "4          5 2020-03-16        India  ...            99              13.0     2.0\n",
              "...      ...        ...          ...  ...           ...               ...     ...\n",
              "9667    9668 2020-07-12  West Bengal  ...         23894          470223.0  8723.0\n",
              "9668    9669 2020-08-12  West Bengal  ...         23829          472454.0  8771.0\n",
              "9669    9670 2020-09-12  West Bengal  ...         23750          475425.0  8820.0\n",
              "9670    9671 2020-10-12  West Bengal  ...         23650          478434.0  8867.0\n",
              "9671    9672 2020-11-12  West Bengal  ...         23451          481385.0  8916.0\n",
              "\n",
              "[9672 rows x 7 columns]"
            ]
          },
          "metadata": {
            "tags": []
          },
          "execution_count": 7
        }
      ]
    },
    {
      "cell_type": "code",
      "metadata": {
        "colab": {
          "base_uri": "https://localhost:8080/",
          "height": 80
        },
        "id": "H0R19EDkz6Lx",
        "outputId": "8e6d9cd3-cc54-48fe-eebd-2064d2c6b3f2"
      },
      "source": [
        "# Highest Active cases in India on\r\n",
        "df[df['Active Cases']==df['Active Cases'].max()]  "
      ],
      "execution_count": 8,
      "outputs": [
        {
          "output_type": "execute_result",
          "data": {
            "text/html": [
              "<div>\n",
              "<style scoped>\n",
              "    .dataframe tbody tr th:only-of-type {\n",
              "        vertical-align: middle;\n",
              "    }\n",
              "\n",
              "    .dataframe tbody tr th {\n",
              "        vertical-align: top;\n",
              "    }\n",
              "\n",
              "    .dataframe thead th {\n",
              "        text-align: right;\n",
              "    }\n",
              "</style>\n",
              "<table border=\"1\" class=\"dataframe\">\n",
              "  <thead>\n",
              "    <tr style=\"text-align: right;\">\n",
              "      <th></th>\n",
              "      <th>S. No.</th>\n",
              "      <th>Date</th>\n",
              "      <th>Region</th>\n",
              "      <th>Confirmed Cases</th>\n",
              "      <th>Active Cases</th>\n",
              "      <th>Cured/Discharged</th>\n",
              "      <th>Death</th>\n",
              "    </tr>\n",
              "  </thead>\n",
              "  <tbody>\n",
              "    <tr>\n",
              "      <th>190</th>\n",
              "      <td>191</td>\n",
              "      <td>2020-09-18</td>\n",
              "      <td>India</td>\n",
              "      <td>5214677</td>\n",
              "      <td>1017754</td>\n",
              "      <td>4112551.0</td>\n",
              "      <td>84372.0</td>\n",
              "    </tr>\n",
              "  </tbody>\n",
              "</table>\n",
              "</div>"
            ],
            "text/plain": [
              "     S. No.       Date Region  ...  Active Cases  Cured/Discharged    Death\n",
              "190     191 2020-09-18  India  ...       1017754         4112551.0  84372.0\n",
              "\n",
              "[1 rows x 7 columns]"
            ]
          },
          "metadata": {
            "tags": []
          },
          "execution_count": 8
        }
      ]
    },
    {
      "cell_type": "code",
      "metadata": {
        "colab": {
          "base_uri": "https://localhost:8080/",
          "height": 80
        },
        "id": "nT40-iSPz_PV",
        "outputId": "a4eee4c3-08ec-4cc3-938a-8374f86b1f92"
      },
      "source": [
        "# Highest Recovery rate in India on\r\n",
        "df['Recovered']=df['Confirmed Cases']-df['Cured/Discharged']\r\n",
        "df['Recovery Rate']=(df['Recovered']/df['Confirmed Cases']) *100\r\n",
        "d1=df[df['Region']=='India']\r\n",
        "d1[d1['Recovery Rate']==d1['Recovery Rate'].max()]  "
      ],
      "execution_count": 9,
      "outputs": [
        {
          "output_type": "execute_result",
          "data": {
            "text/html": [
              "<div>\n",
              "<style scoped>\n",
              "    .dataframe tbody tr th:only-of-type {\n",
              "        vertical-align: middle;\n",
              "    }\n",
              "\n",
              "    .dataframe tbody tr th {\n",
              "        vertical-align: top;\n",
              "    }\n",
              "\n",
              "    .dataframe thead th {\n",
              "        text-align: right;\n",
              "    }\n",
              "</style>\n",
              "<table border=\"1\" class=\"dataframe\">\n",
              "  <thead>\n",
              "    <tr style=\"text-align: right;\">\n",
              "      <th></th>\n",
              "      <th>S. No.</th>\n",
              "      <th>Date</th>\n",
              "      <th>Region</th>\n",
              "      <th>Confirmed Cases</th>\n",
              "      <th>Active Cases</th>\n",
              "      <th>Cured/Discharged</th>\n",
              "      <th>Death</th>\n",
              "      <th>Recovered</th>\n",
              "      <th>Recovery Rate</th>\n",
              "    </tr>\n",
              "  </thead>\n",
              "  <tbody>\n",
              "    <tr>\n",
              "      <th>1</th>\n",
              "      <td>2</td>\n",
              "      <td>2020-03-13</td>\n",
              "      <td>India</td>\n",
              "      <td>75</td>\n",
              "      <td>71</td>\n",
              "      <td>3.0</td>\n",
              "      <td>1.0</td>\n",
              "      <td>72.0</td>\n",
              "      <td>96.0</td>\n",
              "    </tr>\n",
              "  </tbody>\n",
              "</table>\n",
              "</div>"
            ],
            "text/plain": [
              "   S. No.       Date Region  ...  Death  Recovered  Recovery Rate\n",
              "1       2 2020-03-13  India  ...    1.0       72.0           96.0\n",
              "\n",
              "[1 rows x 9 columns]"
            ]
          },
          "metadata": {
            "tags": []
          },
          "execution_count": 9
        }
      ]
    },
    {
      "cell_type": "code",
      "metadata": {
        "colab": {
          "base_uri": "https://localhost:8080/",
          "height": 419
        },
        "id": "DV544lKe0H9H",
        "outputId": "e3868e02-bbee-4b29-f138-59bff76f8ae8"
      },
      "source": [
        "#Considering all the states, hence dropping data of region India\r\n",
        "index_names1 = df[ df['Region'] == 'India' ].index \r\n",
        "df.drop(index_names1, inplace = True)\r\n",
        "index_names2 = df[ df['Region'] == 'State assignment pending' ].index \r\n",
        "df.drop(index_names2, inplace = True)\r\n",
        "df.reset_index()"
      ],
      "execution_count": 11,
      "outputs": [
        {
          "output_type": "execute_result",
          "data": {
            "text/html": [
              "<div>\n",
              "<style scoped>\n",
              "    .dataframe tbody tr th:only-of-type {\n",
              "        vertical-align: middle;\n",
              "    }\n",
              "\n",
              "    .dataframe tbody tr th {\n",
              "        vertical-align: top;\n",
              "    }\n",
              "\n",
              "    .dataframe thead th {\n",
              "        text-align: right;\n",
              "    }\n",
              "</style>\n",
              "<table border=\"1\" class=\"dataframe\">\n",
              "  <thead>\n",
              "    <tr style=\"text-align: right;\">\n",
              "      <th></th>\n",
              "      <th>index</th>\n",
              "      <th>S. No.</th>\n",
              "      <th>Date</th>\n",
              "      <th>Region</th>\n",
              "      <th>Confirmed Cases</th>\n",
              "      <th>Active Cases</th>\n",
              "      <th>Cured/Discharged</th>\n",
              "      <th>Death</th>\n",
              "      <th>Recovered</th>\n",
              "      <th>Recovery Rate</th>\n",
              "    </tr>\n",
              "  </thead>\n",
              "  <tbody>\n",
              "    <tr>\n",
              "      <th>0</th>\n",
              "      <td>275</td>\n",
              "      <td>276</td>\n",
              "      <td>2020-03-27</td>\n",
              "      <td>Andaman and Nicobar Islands</td>\n",
              "      <td>1</td>\n",
              "      <td>1</td>\n",
              "      <td>0.0</td>\n",
              "      <td>0.0</td>\n",
              "      <td>1.0</td>\n",
              "      <td>100.000000</td>\n",
              "    </tr>\n",
              "    <tr>\n",
              "      <th>1</th>\n",
              "      <td>276</td>\n",
              "      <td>277</td>\n",
              "      <td>2020-03-28</td>\n",
              "      <td>Andaman and Nicobar Islands</td>\n",
              "      <td>6</td>\n",
              "      <td>6</td>\n",
              "      <td>0.0</td>\n",
              "      <td>0.0</td>\n",
              "      <td>6.0</td>\n",
              "      <td>100.000000</td>\n",
              "    </tr>\n",
              "    <tr>\n",
              "      <th>2</th>\n",
              "      <td>277</td>\n",
              "      <td>278</td>\n",
              "      <td>2020-03-29</td>\n",
              "      <td>Andaman and Nicobar Islands</td>\n",
              "      <td>9</td>\n",
              "      <td>9</td>\n",
              "      <td>0.0</td>\n",
              "      <td>0.0</td>\n",
              "      <td>9.0</td>\n",
              "      <td>100.000000</td>\n",
              "    </tr>\n",
              "    <tr>\n",
              "      <th>3</th>\n",
              "      <td>278</td>\n",
              "      <td>279</td>\n",
              "      <td>2020-03-30</td>\n",
              "      <td>Andaman and Nicobar Islands</td>\n",
              "      <td>9</td>\n",
              "      <td>9</td>\n",
              "      <td>0.0</td>\n",
              "      <td>0.0</td>\n",
              "      <td>9.0</td>\n",
              "      <td>100.000000</td>\n",
              "    </tr>\n",
              "    <tr>\n",
              "      <th>4</th>\n",
              "      <td>279</td>\n",
              "      <td>280</td>\n",
              "      <td>2020-03-31</td>\n",
              "      <td>Andaman and Nicobar Islands</td>\n",
              "      <td>10</td>\n",
              "      <td>10</td>\n",
              "      <td>0.0</td>\n",
              "      <td>0.0</td>\n",
              "      <td>10.0</td>\n",
              "      <td>100.000000</td>\n",
              "    </tr>\n",
              "    <tr>\n",
              "      <th>...</th>\n",
              "      <td>...</td>\n",
              "      <td>...</td>\n",
              "      <td>...</td>\n",
              "      <td>...</td>\n",
              "      <td>...</td>\n",
              "      <td>...</td>\n",
              "      <td>...</td>\n",
              "      <td>...</td>\n",
              "      <td>...</td>\n",
              "      <td>...</td>\n",
              "    </tr>\n",
              "    <tr>\n",
              "      <th>9304</th>\n",
              "      <td>9667</td>\n",
              "      <td>9668</td>\n",
              "      <td>2020-07-12</td>\n",
              "      <td>West Bengal</td>\n",
              "      <td>502840</td>\n",
              "      <td>23894</td>\n",
              "      <td>470223.0</td>\n",
              "      <td>8723.0</td>\n",
              "      <td>32617.0</td>\n",
              "      <td>6.486556</td>\n",
              "    </tr>\n",
              "    <tr>\n",
              "      <th>9305</th>\n",
              "      <td>9668</td>\n",
              "      <td>9669</td>\n",
              "      <td>2020-08-12</td>\n",
              "      <td>West Bengal</td>\n",
              "      <td>505054</td>\n",
              "      <td>23829</td>\n",
              "      <td>472454.0</td>\n",
              "      <td>8771.0</td>\n",
              "      <td>32600.0</td>\n",
              "      <td>6.454755</td>\n",
              "    </tr>\n",
              "    <tr>\n",
              "      <th>9306</th>\n",
              "      <td>9669</td>\n",
              "      <td>9670</td>\n",
              "      <td>2020-09-12</td>\n",
              "      <td>West Bengal</td>\n",
              "      <td>507995</td>\n",
              "      <td>23750</td>\n",
              "      <td>475425.0</td>\n",
              "      <td>8820.0</td>\n",
              "      <td>32570.0</td>\n",
              "      <td>6.411480</td>\n",
              "    </tr>\n",
              "    <tr>\n",
              "      <th>9307</th>\n",
              "      <td>9670</td>\n",
              "      <td>9671</td>\n",
              "      <td>2020-10-12</td>\n",
              "      <td>West Bengal</td>\n",
              "      <td>510951</td>\n",
              "      <td>23650</td>\n",
              "      <td>478434.0</td>\n",
              "      <td>8867.0</td>\n",
              "      <td>32517.0</td>\n",
              "      <td>6.364015</td>\n",
              "    </tr>\n",
              "    <tr>\n",
              "      <th>9308</th>\n",
              "      <td>9671</td>\n",
              "      <td>9672</td>\n",
              "      <td>2020-11-12</td>\n",
              "      <td>West Bengal</td>\n",
              "      <td>513752</td>\n",
              "      <td>23451</td>\n",
              "      <td>481385.0</td>\n",
              "      <td>8916.0</td>\n",
              "      <td>32367.0</td>\n",
              "      <td>6.300121</td>\n",
              "    </tr>\n",
              "  </tbody>\n",
              "</table>\n",
              "<p>9309 rows × 10 columns</p>\n",
              "</div>"
            ],
            "text/plain": [
              "      index  S. No.       Date  ...   Death  Recovered  Recovery Rate\n",
              "0       275     276 2020-03-27  ...     0.0        1.0     100.000000\n",
              "1       276     277 2020-03-28  ...     0.0        6.0     100.000000\n",
              "2       277     278 2020-03-29  ...     0.0        9.0     100.000000\n",
              "3       278     279 2020-03-30  ...     0.0        9.0     100.000000\n",
              "4       279     280 2020-03-31  ...     0.0       10.0     100.000000\n",
              "...     ...     ...        ...  ...     ...        ...            ...\n",
              "9304   9667    9668 2020-07-12  ...  8723.0    32617.0       6.486556\n",
              "9305   9668    9669 2020-08-12  ...  8771.0    32600.0       6.454755\n",
              "9306   9669    9670 2020-09-12  ...  8820.0    32570.0       6.411480\n",
              "9307   9670    9671 2020-10-12  ...  8867.0    32517.0       6.364015\n",
              "9308   9671    9672 2020-11-12  ...  8916.0    32367.0       6.300121\n",
              "\n",
              "[9309 rows x 10 columns]"
            ]
          },
          "metadata": {
            "tags": []
          },
          "execution_count": 11
        }
      ]
    },
    {
      "cell_type": "code",
      "metadata": {
        "colab": {
          "base_uri": "https://localhost:8080/"
        },
        "id": "eRTXjZh00kXo",
        "outputId": "864ef040-de65-4f13-a0f2-e971f8092e5b"
      },
      "source": [
        "df.info()"
      ],
      "execution_count": 12,
      "outputs": [
        {
          "output_type": "stream",
          "text": [
            "<class 'pandas.core.frame.DataFrame'>\n",
            "Int64Index: 9309 entries, 275 to 9671\n",
            "Data columns (total 9 columns):\n",
            " #   Column            Non-Null Count  Dtype         \n",
            "---  ------            --------------  -----         \n",
            " 0   S. No.            9309 non-null   int64         \n",
            " 1   Date              9309 non-null   datetime64[ns]\n",
            " 2   Region            9309 non-null   object        \n",
            " 3   Confirmed Cases   9309 non-null   int64         \n",
            " 4   Active Cases      9309 non-null   int64         \n",
            " 5   Cured/Discharged  9309 non-null   float64       \n",
            " 6   Death             9309 non-null   float64       \n",
            " 7   Recovered         9309 non-null   float64       \n",
            " 8   Recovery Rate     9167 non-null   float64       \n",
            "dtypes: datetime64[ns](1), float64(4), int64(3), object(1)\n",
            "memory usage: 727.3+ KB\n"
          ],
          "name": "stdout"
        }
      ]
    },
    {
      "cell_type": "code",
      "metadata": {
        "colab": {
          "base_uri": "https://localhost:8080/"
        },
        "id": "1NUcgFNg0ofy",
        "outputId": "fa87a29e-fc9e-4a44-c4ab-cda65b351ebd"
      },
      "source": [
        "# Peak of various states\r\n",
        "df.groupby('Region')['Active Cases'].max()"
      ],
      "execution_count": 13,
      "outputs": [
        {
          "output_type": "execute_result",
          "data": {
            "text/plain": [
              "Region\n",
              "Andaman and Nicobar Islands                   1154\n",
              "Andhra Pradesh                              103521\n",
              "Arunachal Pradesh                             3068\n",
              "Assam                                        34496\n",
              "Bihar                                        32636\n",
              "Chandigarh                                    3171\n",
              "Chhattisgarh                                 38198\n",
              "Dadra and Nagar Haveli and Daman and Diu       464\n",
              "Delhi                                        44456\n",
              "Goa                                           5920\n",
              "Gujarat                                      16809\n",
              "Haryana                                      21682\n",
              "Himachal Pradesh                              8644\n",
              "Jammu and Kashmir                            22032\n",
              "Jharkhand                                    15726\n",
              "Karnataka                                   120948\n",
              "Kerala                                       97520\n",
              "Ladakh                                        1299\n",
              "Lakshadweep                                      0\n",
              "Madhya Pradesh                               22812\n",
              "Maharashtra                                 302135\n",
              "Manipur                                       4308\n",
              "Meghalaya                                     2493\n",
              "Mizoram                                        690\n",
              "Nagaland                                      2116\n",
              "Odisha                                       35092\n",
              "Puducherry                                    5327\n",
              "Punjab                                       22399\n",
              "Rajasthan                                    28758\n",
              "Sikkim                                         705\n",
              "Tamil Nadu                                   57968\n",
              "Telangana                                    32994\n",
              "Tripura                                       7584\n",
              "Uttar Pradesh                                68235\n",
              "Uttarakhand                                  12465\n",
              "West Bengal                                  37190\n",
              "Name: Active Cases, dtype: int64"
            ]
          },
          "metadata": {
            "tags": []
          },
          "execution_count": 13
        }
      ]
    },
    {
      "cell_type": "code",
      "metadata": {
        "colab": {
          "base_uri": "https://localhost:8080/",
          "height": 80
        },
        "id": "ZKzls0ds0vnv",
        "outputId": "a4e57507-5e6a-4f14-89f8-586dbf0475c2"
      },
      "source": [
        "# Highest Active cases in which State \r\n",
        "df[df['Active Cases']==df['Active Cases'].max()]  "
      ],
      "execution_count": 14,
      "outputs": [
        {
          "output_type": "execute_result",
          "data": {
            "text/html": [
              "<div>\n",
              "<style scoped>\n",
              "    .dataframe tbody tr th:only-of-type {\n",
              "        vertical-align: middle;\n",
              "    }\n",
              "\n",
              "    .dataframe tbody tr th {\n",
              "        vertical-align: top;\n",
              "    }\n",
              "\n",
              "    .dataframe thead th {\n",
              "        text-align: right;\n",
              "    }\n",
              "</style>\n",
              "<table border=\"1\" class=\"dataframe\">\n",
              "  <thead>\n",
              "    <tr style=\"text-align: right;\">\n",
              "      <th></th>\n",
              "      <th>S. No.</th>\n",
              "      <th>Date</th>\n",
              "      <th>Region</th>\n",
              "      <th>Confirmed Cases</th>\n",
              "      <th>Active Cases</th>\n",
              "      <th>Cured/Discharged</th>\n",
              "      <th>Death</th>\n",
              "      <th>Recovered</th>\n",
              "      <th>Recovery Rate</th>\n",
              "    </tr>\n",
              "  </thead>\n",
              "  <tbody>\n",
              "    <tr>\n",
              "      <th>5623</th>\n",
              "      <td>5624</td>\n",
              "      <td>2020-09-18</td>\n",
              "      <td>Maharashtra</td>\n",
              "      <td>1145840</td>\n",
              "      <td>302135</td>\n",
              "      <td>812354.0</td>\n",
              "      <td>31351.0</td>\n",
              "      <td>333486.0</td>\n",
              "      <td>29.104063</td>\n",
              "    </tr>\n",
              "  </tbody>\n",
              "</table>\n",
              "</div>"
            ],
            "text/plain": [
              "      S. No.       Date       Region  ...    Death  Recovered  Recovery Rate\n",
              "5623    5624 2020-09-18  Maharashtra  ...  31351.0   333486.0      29.104063\n",
              "\n",
              "[1 rows x 9 columns]"
            ]
          },
          "metadata": {
            "tags": []
          },
          "execution_count": 14
        }
      ]
    },
    {
      "cell_type": "code",
      "metadata": {
        "colab": {
          "base_uri": "https://localhost:8080/"
        },
        "id": "_KUBVVNu06_v",
        "outputId": "b2d64d6d-cf8e-4dd2-ae67-829d2ec3f8fd"
      },
      "source": [
        "# Recovery rates in each State \r\n",
        "gk=df.groupby('Region')['Recovery Rate'].mean()\r\n",
        "gk"
      ],
      "execution_count": 16,
      "outputs": [
        {
          "output_type": "execute_result",
          "data": {
            "text/plain": [
              "Region\n",
              "Andaman and Nicobar Islands                 23.783747\n",
              "Andhra Pradesh                              40.393512\n",
              "Arunachal Pradesh                           38.544012\n",
              "Assam                                       33.593974\n",
              "Bihar                                       33.860386\n",
              "Chandigarh                                  36.031201\n",
              "Chhattisgarh                                35.254610\n",
              "Dadra and Nagar Haveli and Daman and Diu    33.605387\n",
              "Delhi                                       35.729873\n",
              "Goa                                         32.414416\n",
              "Gujarat                                     36.064647\n",
              "Haryana                                     32.385161\n",
              "Himachal Pradesh                            38.298310\n",
              "Jammu and Kashmir                           42.421059\n",
              "Jharkhand                                   38.536684\n",
              "Karnataka                                   43.555182\n",
              "Kerala                                      38.815386\n",
              "Ladakh                                      34.076205\n",
              "Lakshadweep                                       NaN\n",
              "Madhya Pradesh                              35.958977\n",
              "Maharashtra                                 45.235982\n",
              "Manipur                                     38.415300\n",
              "Meghalaya                                   42.260637\n",
              "Mizoram                                     44.716401\n",
              "Nagaland                                    39.089860\n",
              "Odisha                                      36.739542\n",
              "Puducherry                                  40.750941\n",
              "Punjab                                      38.233823\n",
              "Rajasthan                                   33.672810\n",
              "Sikkim                                      39.120174\n",
              "Tamil Nadu                                  35.371749\n",
              "Telangana                                   37.320334\n",
              "Tripura                                     33.059067\n",
              "Uttar Pradesh                               37.374417\n",
              "Uttarakhand                                 37.665449\n",
              "West Bengal                                 39.460923\n",
              "Name: Recovery Rate, dtype: float64"
            ]
          },
          "metadata": {
            "tags": []
          },
          "execution_count": 16
        }
      ]
    },
    {
      "cell_type": "code",
      "metadata": {
        "colab": {
          "base_uri": "https://localhost:8080/"
        },
        "id": "-cW7yuA-1BZ_",
        "outputId": "734d3c4c-1c99-4c3f-982c-a86f9ba2db0d"
      },
      "source": [
        "#Highest recovery rate\r\n",
        "gk.max()"
      ],
      "execution_count": 17,
      "outputs": [
        {
          "output_type": "execute_result",
          "data": {
            "text/plain": [
              "45.23598209423069"
            ]
          },
          "metadata": {
            "tags": []
          },
          "execution_count": 17
        }
      ]
    },
    {
      "cell_type": "code",
      "metadata": {
        "colab": {
          "base_uri": "https://localhost:8080/",
          "height": 419
        },
        "id": "ECGkNsDv1Q26",
        "outputId": "9c69b115-b222-42b1-ce1b-fb8394258cec"
      },
      "source": [
        "#Forecasting\r\n",
        "df = pd.read_csv('/content/COVID-19 Cases(11-12-2020).csv')\r\n",
        "df['Date'] =pd.to_datetime(df['Date'])\r\n",
        "index_names = df[ df['Region'] == 'World' ].index \r\n",
        "df.drop(index_names, inplace = True)\r\n",
        "index_names2 = df[ df['Region'] == 'State assignment pending' ].index \r\n",
        "df.drop(index_names2, inplace = True)\r\n",
        "df2=df.loc[df['Region']== 'India'].reset_index()\r\n",
        "df2"
      ],
      "execution_count": 19,
      "outputs": [
        {
          "output_type": "execute_result",
          "data": {
            "text/html": [
              "<div>\n",
              "<style scoped>\n",
              "    .dataframe tbody tr th:only-of-type {\n",
              "        vertical-align: middle;\n",
              "    }\n",
              "\n",
              "    .dataframe tbody tr th {\n",
              "        vertical-align: top;\n",
              "    }\n",
              "\n",
              "    .dataframe thead th {\n",
              "        text-align: right;\n",
              "    }\n",
              "</style>\n",
              "<table border=\"1\" class=\"dataframe\">\n",
              "  <thead>\n",
              "    <tr style=\"text-align: right;\">\n",
              "      <th></th>\n",
              "      <th>index</th>\n",
              "      <th>S. No.</th>\n",
              "      <th>Date</th>\n",
              "      <th>Region</th>\n",
              "      <th>Confirmed Cases</th>\n",
              "      <th>Active Cases</th>\n",
              "      <th>Cured/Discharged</th>\n",
              "      <th>Death</th>\n",
              "    </tr>\n",
              "  </thead>\n",
              "  <tbody>\n",
              "    <tr>\n",
              "      <th>0</th>\n",
              "      <td>0</td>\n",
              "      <td>1</td>\n",
              "      <td>2020-12-03</td>\n",
              "      <td>India</td>\n",
              "      <td>74</td>\n",
              "      <td>71</td>\n",
              "      <td>3.0</td>\n",
              "      <td>0.0</td>\n",
              "    </tr>\n",
              "    <tr>\n",
              "      <th>1</th>\n",
              "      <td>1</td>\n",
              "      <td>2</td>\n",
              "      <td>2020-03-13</td>\n",
              "      <td>India</td>\n",
              "      <td>75</td>\n",
              "      <td>71</td>\n",
              "      <td>3.0</td>\n",
              "      <td>1.0</td>\n",
              "    </tr>\n",
              "    <tr>\n",
              "      <th>2</th>\n",
              "      <td>2</td>\n",
              "      <td>3</td>\n",
              "      <td>2020-03-14</td>\n",
              "      <td>India</td>\n",
              "      <td>84</td>\n",
              "      <td>72</td>\n",
              "      <td>10.0</td>\n",
              "      <td>2.0</td>\n",
              "    </tr>\n",
              "    <tr>\n",
              "      <th>3</th>\n",
              "      <td>3</td>\n",
              "      <td>4</td>\n",
              "      <td>2020-03-15</td>\n",
              "      <td>India</td>\n",
              "      <td>107</td>\n",
              "      <td>95</td>\n",
              "      <td>10.0</td>\n",
              "      <td>2.0</td>\n",
              "    </tr>\n",
              "    <tr>\n",
              "      <th>4</th>\n",
              "      <td>4</td>\n",
              "      <td>5</td>\n",
              "      <td>2020-03-16</td>\n",
              "      <td>India</td>\n",
              "      <td>114</td>\n",
              "      <td>99</td>\n",
              "      <td>13.0</td>\n",
              "      <td>2.0</td>\n",
              "    </tr>\n",
              "    <tr>\n",
              "      <th>...</th>\n",
              "      <td>...</td>\n",
              "      <td>...</td>\n",
              "      <td>...</td>\n",
              "      <td>...</td>\n",
              "      <td>...</td>\n",
              "      <td>...</td>\n",
              "      <td>...</td>\n",
              "      <td>...</td>\n",
              "    </tr>\n",
              "    <tr>\n",
              "      <th>270</th>\n",
              "      <td>270</td>\n",
              "      <td>271</td>\n",
              "      <td>2020-07-12</td>\n",
              "      <td>India</td>\n",
              "      <td>9677203</td>\n",
              "      <td>396729</td>\n",
              "      <td>9139901.0</td>\n",
              "      <td>140573.0</td>\n",
              "    </tr>\n",
              "    <tr>\n",
              "      <th>271</th>\n",
              "      <td>271</td>\n",
              "      <td>272</td>\n",
              "      <td>2020-08-12</td>\n",
              "      <td>India</td>\n",
              "      <td>9703770</td>\n",
              "      <td>383866</td>\n",
              "      <td>9178946.0</td>\n",
              "      <td>140958.0</td>\n",
              "    </tr>\n",
              "    <tr>\n",
              "      <th>272</th>\n",
              "      <td>272</td>\n",
              "      <td>273</td>\n",
              "      <td>2020-09-12</td>\n",
              "      <td>India</td>\n",
              "      <td>9735850</td>\n",
              "      <td>378909</td>\n",
              "      <td>9215581.0</td>\n",
              "      <td>141360.0</td>\n",
              "    </tr>\n",
              "    <tr>\n",
              "      <th>273</th>\n",
              "      <td>273</td>\n",
              "      <td>274</td>\n",
              "      <td>2020-10-12</td>\n",
              "      <td>India</td>\n",
              "      <td>9767371</td>\n",
              "      <td>372293</td>\n",
              "      <td>9253306.0</td>\n",
              "      <td>141772.0</td>\n",
              "    </tr>\n",
              "    <tr>\n",
              "      <th>274</th>\n",
              "      <td>274</td>\n",
              "      <td>275</td>\n",
              "      <td>2020-11-12</td>\n",
              "      <td>India</td>\n",
              "      <td>9796769</td>\n",
              "      <td>363749</td>\n",
              "      <td>9290834.0</td>\n",
              "      <td>142186.0</td>\n",
              "    </tr>\n",
              "  </tbody>\n",
              "</table>\n",
              "<p>275 rows × 8 columns</p>\n",
              "</div>"
            ],
            "text/plain": [
              "     index  S. No.       Date  ... Active Cases  Cured/Discharged     Death\n",
              "0        0       1 2020-12-03  ...           71               3.0       0.0\n",
              "1        1       2 2020-03-13  ...           71               3.0       1.0\n",
              "2        2       3 2020-03-14  ...           72              10.0       2.0\n",
              "3        3       4 2020-03-15  ...           95              10.0       2.0\n",
              "4        4       5 2020-03-16  ...           99              13.0       2.0\n",
              "..     ...     ...        ...  ...          ...               ...       ...\n",
              "270    270     271 2020-07-12  ...       396729         9139901.0  140573.0\n",
              "271    271     272 2020-08-12  ...       383866         9178946.0  140958.0\n",
              "272    272     273 2020-09-12  ...       378909         9215581.0  141360.0\n",
              "273    273     274 2020-10-12  ...       372293         9253306.0  141772.0\n",
              "274    274     275 2020-11-12  ...       363749         9290834.0  142186.0\n",
              "\n",
              "[275 rows x 8 columns]"
            ]
          },
          "metadata": {
            "tags": []
          },
          "execution_count": 19
        }
      ]
    },
    {
      "cell_type": "code",
      "metadata": {
        "colab": {
          "base_uri": "https://localhost:8080/"
        },
        "id": "lN6SN9-21dIx",
        "outputId": "a91ab60d-b9d0-46b8-878a-e1679ada60d9"
      },
      "source": [
        "df2.info()"
      ],
      "execution_count": 20,
      "outputs": [
        {
          "output_type": "stream",
          "text": [
            "<class 'pandas.core.frame.DataFrame'>\n",
            "RangeIndex: 275 entries, 0 to 274\n",
            "Data columns (total 8 columns):\n",
            " #   Column            Non-Null Count  Dtype         \n",
            "---  ------            --------------  -----         \n",
            " 0   index             275 non-null    int64         \n",
            " 1   S. No.            275 non-null    int64         \n",
            " 2   Date              275 non-null    datetime64[ns]\n",
            " 3   Region            275 non-null    object        \n",
            " 4   Confirmed Cases   275 non-null    int64         \n",
            " 5   Active Cases      275 non-null    int64         \n",
            " 6   Cured/Discharged  275 non-null    float64       \n",
            " 7   Death             275 non-null    float64       \n",
            "dtypes: datetime64[ns](1), float64(2), int64(4), object(1)\n",
            "memory usage: 17.3+ KB\n"
          ],
          "name": "stdout"
        }
      ]
    },
    {
      "cell_type": "code",
      "metadata": {
        "colab": {
          "base_uri": "https://localhost:8080/"
        },
        "id": "gmtPQrDO1gs5",
        "outputId": "51c98344-8b9e-44a9-b7b3-e57acc3885b6"
      },
      "source": [
        "df_new = df2[['Date','Active Cases']]\r\n",
        "df_new.info()"
      ],
      "execution_count": 21,
      "outputs": [
        {
          "output_type": "stream",
          "text": [
            "<class 'pandas.core.frame.DataFrame'>\n",
            "RangeIndex: 275 entries, 0 to 274\n",
            "Data columns (total 2 columns):\n",
            " #   Column        Non-Null Count  Dtype         \n",
            "---  ------        --------------  -----         \n",
            " 0   Date          275 non-null    datetime64[ns]\n",
            " 1   Active Cases  275 non-null    int64         \n",
            "dtypes: datetime64[ns](1), int64(1)\n",
            "memory usage: 4.4 KB\n"
          ],
          "name": "stdout"
        }
      ]
    },
    {
      "cell_type": "code",
      "metadata": {
        "colab": {
          "base_uri": "https://localhost:8080/",
          "height": 419
        },
        "id": "Pw48jeO31jiA",
        "outputId": "c0a9f894-6fb5-402e-ca5e-dd191b2c12fb"
      },
      "source": [
        "df_new = df_new.rename(columns = {'Date':'ds','Active Cases':'y'})\r\n",
        "df_new"
      ],
      "execution_count": 22,
      "outputs": [
        {
          "output_type": "execute_result",
          "data": {
            "text/html": [
              "<div>\n",
              "<style scoped>\n",
              "    .dataframe tbody tr th:only-of-type {\n",
              "        vertical-align: middle;\n",
              "    }\n",
              "\n",
              "    .dataframe tbody tr th {\n",
              "        vertical-align: top;\n",
              "    }\n",
              "\n",
              "    .dataframe thead th {\n",
              "        text-align: right;\n",
              "    }\n",
              "</style>\n",
              "<table border=\"1\" class=\"dataframe\">\n",
              "  <thead>\n",
              "    <tr style=\"text-align: right;\">\n",
              "      <th></th>\n",
              "      <th>ds</th>\n",
              "      <th>y</th>\n",
              "    </tr>\n",
              "  </thead>\n",
              "  <tbody>\n",
              "    <tr>\n",
              "      <th>0</th>\n",
              "      <td>2020-12-03</td>\n",
              "      <td>71</td>\n",
              "    </tr>\n",
              "    <tr>\n",
              "      <th>1</th>\n",
              "      <td>2020-03-13</td>\n",
              "      <td>71</td>\n",
              "    </tr>\n",
              "    <tr>\n",
              "      <th>2</th>\n",
              "      <td>2020-03-14</td>\n",
              "      <td>72</td>\n",
              "    </tr>\n",
              "    <tr>\n",
              "      <th>3</th>\n",
              "      <td>2020-03-15</td>\n",
              "      <td>95</td>\n",
              "    </tr>\n",
              "    <tr>\n",
              "      <th>4</th>\n",
              "      <td>2020-03-16</td>\n",
              "      <td>99</td>\n",
              "    </tr>\n",
              "    <tr>\n",
              "      <th>...</th>\n",
              "      <td>...</td>\n",
              "      <td>...</td>\n",
              "    </tr>\n",
              "    <tr>\n",
              "      <th>270</th>\n",
              "      <td>2020-07-12</td>\n",
              "      <td>396729</td>\n",
              "    </tr>\n",
              "    <tr>\n",
              "      <th>271</th>\n",
              "      <td>2020-08-12</td>\n",
              "      <td>383866</td>\n",
              "    </tr>\n",
              "    <tr>\n",
              "      <th>272</th>\n",
              "      <td>2020-09-12</td>\n",
              "      <td>378909</td>\n",
              "    </tr>\n",
              "    <tr>\n",
              "      <th>273</th>\n",
              "      <td>2020-10-12</td>\n",
              "      <td>372293</td>\n",
              "    </tr>\n",
              "    <tr>\n",
              "      <th>274</th>\n",
              "      <td>2020-11-12</td>\n",
              "      <td>363749</td>\n",
              "    </tr>\n",
              "  </tbody>\n",
              "</table>\n",
              "<p>275 rows × 2 columns</p>\n",
              "</div>"
            ],
            "text/plain": [
              "            ds       y\n",
              "0   2020-12-03      71\n",
              "1   2020-03-13      71\n",
              "2   2020-03-14      72\n",
              "3   2020-03-15      95\n",
              "4   2020-03-16      99\n",
              "..         ...     ...\n",
              "270 2020-07-12  396729\n",
              "271 2020-08-12  383866\n",
              "272 2020-09-12  378909\n",
              "273 2020-10-12  372293\n",
              "274 2020-11-12  363749\n",
              "\n",
              "[275 rows x 2 columns]"
            ]
          },
          "metadata": {
            "tags": []
          },
          "execution_count": 22
        }
      ]
    },
    {
      "cell_type": "code",
      "metadata": {
        "id": "u2fW0dl_1n2T"
      },
      "source": [
        "df_new.to_csv('IndiaCovid.csv',index=False)"
      ],
      "execution_count": 23,
      "outputs": []
    },
    {
      "cell_type": "code",
      "metadata": {
        "colab": {
          "base_uri": "https://localhost:8080/"
        },
        "id": "p7ydM4T91qxs",
        "outputId": "1d3a7851-0a3d-407b-b889-0700d482fe2c"
      },
      "source": [
        "import fbprophet \r\n",
        "op = fbprophet.Prophet(changepoint_prior_scale=0.5)\r\n",
        "op.fit(df_new)"
      ],
      "execution_count": 24,
      "outputs": [
        {
          "output_type": "stream",
          "text": [
            "INFO:fbprophet:Disabling yearly seasonality. Run prophet with yearly_seasonality=True to override this.\n",
            "INFO:fbprophet:Disabling daily seasonality. Run prophet with daily_seasonality=True to override this.\n"
          ],
          "name": "stderr"
        },
        {
          "output_type": "execute_result",
          "data": {
            "text/plain": [
              "<fbprophet.forecaster.Prophet at 0x7fa604ab2320>"
            ]
          },
          "metadata": {
            "tags": []
          },
          "execution_count": 24
        }
      ]
    },
    {
      "cell_type": "code",
      "metadata": {
        "colab": {
          "base_uri": "https://localhost:8080/",
          "height": 419
        },
        "id": "Na4ipI1B1tXU",
        "outputId": "5c263bc5-a6e3-4e70-ed84-14edb1e64ad4"
      },
      "source": [
        "forecast = op.make_future_dataframe(periods = 12,freq='M')\r\n",
        "forecast = op.predict(forecast)\r\n",
        "forecast[['ds','yhat','yhat_lower','yhat_upper']]"
      ],
      "execution_count": 25,
      "outputs": [
        {
          "output_type": "execute_result",
          "data": {
            "text/html": [
              "<div>\n",
              "<style scoped>\n",
              "    .dataframe tbody tr th:only-of-type {\n",
              "        vertical-align: middle;\n",
              "    }\n",
              "\n",
              "    .dataframe tbody tr th {\n",
              "        vertical-align: top;\n",
              "    }\n",
              "\n",
              "    .dataframe thead th {\n",
              "        text-align: right;\n",
              "    }\n",
              "</style>\n",
              "<table border=\"1\" class=\"dataframe\">\n",
              "  <thead>\n",
              "    <tr style=\"text-align: right;\">\n",
              "      <th></th>\n",
              "      <th>ds</th>\n",
              "      <th>yhat</th>\n",
              "      <th>yhat_lower</th>\n",
              "      <th>yhat_upper</th>\n",
              "    </tr>\n",
              "  </thead>\n",
              "  <tbody>\n",
              "    <tr>\n",
              "      <th>0</th>\n",
              "      <td>2020-01-04</td>\n",
              "      <td>3.723048e+05</td>\n",
              "      <td>6.199395e+04</td>\n",
              "      <td>687395.238896</td>\n",
              "    </tr>\n",
              "    <tr>\n",
              "      <th>1</th>\n",
              "      <td>2020-01-05</td>\n",
              "      <td>3.913953e+05</td>\n",
              "      <td>4.401155e+04</td>\n",
              "      <td>680776.511272</td>\n",
              "    </tr>\n",
              "    <tr>\n",
              "      <th>2</th>\n",
              "      <td>2020-01-06</td>\n",
              "      <td>4.012889e+05</td>\n",
              "      <td>9.989216e+04</td>\n",
              "      <td>702214.183214</td>\n",
              "    </tr>\n",
              "    <tr>\n",
              "      <th>3</th>\n",
              "      <td>2020-01-07</td>\n",
              "      <td>4.008337e+05</td>\n",
              "      <td>6.251496e+04</td>\n",
              "      <td>723045.106326</td>\n",
              "    </tr>\n",
              "    <tr>\n",
              "      <th>4</th>\n",
              "      <td>2020-01-08</td>\n",
              "      <td>3.993762e+05</td>\n",
              "      <td>6.921936e+04</td>\n",
              "      <td>722178.483394</td>\n",
              "    </tr>\n",
              "    <tr>\n",
              "      <th>...</th>\n",
              "      <td>...</td>\n",
              "      <td>...</td>\n",
              "      <td>...</td>\n",
              "      <td>...</td>\n",
              "    </tr>\n",
              "    <tr>\n",
              "      <th>282</th>\n",
              "      <td>2021-07-31</td>\n",
              "      <td>-6.729703e+05</td>\n",
              "      <td>-1.363893e+06</td>\n",
              "      <td>125624.996735</td>\n",
              "    </tr>\n",
              "    <tr>\n",
              "      <th>283</th>\n",
              "      <td>2021-08-31</td>\n",
              "      <td>-7.746189e+05</td>\n",
              "      <td>-1.611972e+06</td>\n",
              "      <td>166956.290668</td>\n",
              "    </tr>\n",
              "    <tr>\n",
              "      <th>284</th>\n",
              "      <td>2021-09-30</td>\n",
              "      <td>-9.065961e+05</td>\n",
              "      <td>-1.929737e+06</td>\n",
              "      <td>218237.834869</td>\n",
              "    </tr>\n",
              "    <tr>\n",
              "      <th>285</th>\n",
              "      <td>2021-10-31</td>\n",
              "      <td>-1.061946e+06</td>\n",
              "      <td>-2.185273e+06</td>\n",
              "      <td>122370.731184</td>\n",
              "    </tr>\n",
              "    <tr>\n",
              "      <th>286</th>\n",
              "      <td>2021-11-30</td>\n",
              "      <td>-1.180970e+06</td>\n",
              "      <td>-2.420569e+06</td>\n",
              "      <td>259447.164206</td>\n",
              "    </tr>\n",
              "  </tbody>\n",
              "</table>\n",
              "<p>287 rows × 4 columns</p>\n",
              "</div>"
            ],
            "text/plain": [
              "            ds          yhat    yhat_lower     yhat_upper\n",
              "0   2020-01-04  3.723048e+05  6.199395e+04  687395.238896\n",
              "1   2020-01-05  3.913953e+05  4.401155e+04  680776.511272\n",
              "2   2020-01-06  4.012889e+05  9.989216e+04  702214.183214\n",
              "3   2020-01-07  4.008337e+05  6.251496e+04  723045.106326\n",
              "4   2020-01-08  3.993762e+05  6.921936e+04  722178.483394\n",
              "..         ...           ...           ...            ...\n",
              "282 2021-07-31 -6.729703e+05 -1.363893e+06  125624.996735\n",
              "283 2021-08-31 -7.746189e+05 -1.611972e+06  166956.290668\n",
              "284 2021-09-30 -9.065961e+05 -1.929737e+06  218237.834869\n",
              "285 2021-10-31 -1.061946e+06 -2.185273e+06  122370.731184\n",
              "286 2021-11-30 -1.180970e+06 -2.420569e+06  259447.164206\n",
              "\n",
              "[287 rows x 4 columns]"
            ]
          },
          "metadata": {
            "tags": []
          },
          "execution_count": 25
        }
      ]
    },
    {
      "cell_type": "code",
      "metadata": {
        "colab": {
          "base_uri": "https://localhost:8080/",
          "height": 441
        },
        "id": "0wWqfT_W1y4e",
        "outputId": "c3bb04ab-a0a8-4cf0-abd2-3bc8b54bad55"
      },
      "source": [
        "op.plot(forecast,xlabel='Date',ylabel='Active Cases');"
      ],
      "execution_count": 26,
      "outputs": [
        {
          "output_type": "display_data",
          "data": {
            "image/png": "[encoded data removed]",
            "text/plain": [
              "<Figure size 720x432 with 1 Axes>"
            ]
          },
          "metadata": {
            "tags": []
          }
        }
      ]
    }
  ]
}